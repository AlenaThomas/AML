{
  "nbformat": 4,
  "nbformat_minor": 0,
  "metadata": {
    "colab": {
      "provenance": []
    },
    "kernelspec": {
      "name": "python3",
      "display_name": "Python 3"
    },
    "language_info": {
      "name": "python"
    }
  },
  "cells": [
    {
      "cell_type": "markdown",
      "source": [
        "# **ASSIGNMENT 5(i)**\n",
        "\n",
        "Name: Alena Maria Thomas\n",
        "\n",
        "Roll No: MDS202303"
      ],
      "metadata": {
        "id": "mY3TZkIdq9Jg"
      }
    },
    {
      "cell_type": "markdown",
      "source": [
        "## 1. Import all the required libraries."
      ],
      "metadata": {
        "id": "uB2NCzpjrUOL"
      }
    },
    {
      "cell_type": "code",
      "execution_count": 49,
      "metadata": {
        "id": "_6ktYWPUqkp1"
      },
      "outputs": [],
      "source": [
        "import os\n",
        "import numpy as np\n",
        "import pandas as pd\n",
        "import matplotlib.pyplot as plt\n",
        "\n",
        "import cv2\n",
        "import tensorflow as tf\n",
        "from tensorflow.keras.layers import Input, Dense, Flatten, Dropout\n",
        "from tensorflow.keras.models import Model, Sequential\n",
        "from tensorflow.keras.applications.vgg19 import VGG19, preprocess_input\n",
        "from tensorflow.keras.callbacks import EarlyStopping\n",
        "\n",
        "from sklearn.model_selection import train_test_split\n",
        "from sklearn.metrics import classification_report\n",
        "from sklearn.metrics import confusion_matrix, ConfusionMatrixDisplay"
      ]
    },
    {
      "cell_type": "markdown",
      "source": [
        "## 2. Create a dataset with the images stored in Google Drive and label them."
      ],
      "metadata": {
        "id": "HD1ihegyyDsr"
      }
    },
    {
      "cell_type": "markdown",
      "source": [
        "Identify the Google Drive directory containing the images."
      ],
      "metadata": {
        "id": "OCGqhKvj0x_n"
      }
    },
    {
      "cell_type": "code",
      "source": [
        "from google.colab import drive\n",
        "drive.mount('/content/drive', force_remount = True)"
      ],
      "metadata": {
        "colab": {
          "base_uri": "https://localhost:8080/"
        },
        "id": "Zb0W5scJyBXW",
        "outputId": "c38bc6c9-c013-47e7-ea23-230e408415f5"
      },
      "execution_count": 2,
      "outputs": [
        {
          "output_type": "stream",
          "name": "stdout",
          "text": [
            "Mounted at /content/drive\n"
          ]
        }
      ]
    },
    {
      "cell_type": "code",
      "source": [
        "chicken_dir = '/content/drive/MyDrive/AML_Asgmt_5_datasets/chicken_images'\n",
        "duck_dir = '/content/drive/MyDrive/AML_Asgmt_5_datasets/duck_images'"
      ],
      "metadata": {
        "id": "qjCcSPB-yo7R"
      },
      "execution_count": 3,
      "outputs": []
    },
    {
      "cell_type": "markdown",
      "source": [
        "Create a list of all the images in the directory and list of the corresponding labels."
      ],
      "metadata": {
        "id": "B1NmwDP809zW"
      }
    },
    {
      "cell_type": "code",
      "source": [
        "images = []\n",
        "labels = []\n",
        "\n",
        "for img in os.listdir(chicken_dir):\n",
        "  img_path = chicken_dir + '/' + img\n",
        "  img_arr = cv2.imread(img_path)\n",
        "  img_arr = cv2.resize(img_arr, (224,224))\n",
        "  images.append(img_arr)\n",
        "  labels.append(0)\n",
        "\n",
        "for img in os.listdir(duck_dir):\n",
        "  img_path = duck_dir + '/' + img\n",
        "  img_arr = cv2.imread(img_path)\n",
        "  img_arr = cv2.resize(img_arr, (224,224))\n",
        "  images.append(img_arr)\n",
        "  labels.append(1)\n",
        "\n",
        "df = pd.DataFrame({'images': images, 'label': labels})"
      ],
      "metadata": {
        "id": "MtaVPm_3zFqU"
      },
      "execution_count": 10,
      "outputs": []
    },
    {
      "cell_type": "markdown",
      "source": [
        "## 3. Split the dataset into training/validation/testing datasets."
      ],
      "metadata": {
        "id": "9b3WTNjD3b3u"
      }
    },
    {
      "cell_type": "code",
      "source": [
        "X = np.array([np.array(img) for img in df['images']])\n",
        "y = df['label'].values"
      ],
      "metadata": {
        "id": "fZnAdQB4190k"
      },
      "execution_count": 16,
      "outputs": []
    },
    {
      "cell_type": "markdown",
      "source": [
        "Split the dataset in the following proportions:\n",
        " - 70% is training set\n",
        " - 15% is validation set\n",
        " - 15% is testing set"
      ],
      "metadata": {
        "id": "jAtWmcXr4W5l"
      }
    },
    {
      "cell_type": "code",
      "source": [
        "X_train, X_remaining, y_train, y_remaining = train_test_split(X, y, test_size=0.3, random_state=100)\n",
        "X_val, X_test, y_val, y_test = train_test_split(X_remaining, y_remaining, test_size=0.5, random_state=100)"
      ],
      "metadata": {
        "id": "nu4N3pm-0QoQ"
      },
      "execution_count": 17,
      "outputs": []
    },
    {
      "cell_type": "markdown",
      "source": [
        "## 4. Preprocess the images."
      ],
      "metadata": {
        "id": "UWkOSnO66KpH"
      }
    },
    {
      "cell_type": "markdown",
      "source": [
        "Normalize the images."
      ],
      "metadata": {
        "id": "R-KK0seR-piW"
      }
    },
    {
      "cell_type": "code",
      "source": [
        "X_train = X_train/255.0\n",
        "X_val = X_val/225.0\n",
        "X_test = X_test/225.0"
      ],
      "metadata": {
        "id": "uQwE8XHd6FHr"
      },
      "execution_count": 31,
      "outputs": []
    },
    {
      "cell_type": "markdown",
      "source": [
        "## 5. Model training"
      ],
      "metadata": {
        "id": "UWBbRga1Ie0M"
      }
    },
    {
      "cell_type": "markdown",
      "source": [
        "### 5.1 Model Building"
      ],
      "metadata": {
        "id": "tONy2-YnIpJX"
      }
    },
    {
      "cell_type": "markdown",
      "source": [
        "We use the VGG-19 pre-trained model to classify chicken and duck."
      ],
      "metadata": {
        "id": "v7gEy48bJxxU"
      }
    },
    {
      "cell_type": "markdown",
      "source": [
        "Firstly, import VGG-19."
      ],
      "metadata": {
        "id": "GJDNFWtEJ7DD"
      }
    },
    {
      "cell_type": "code",
      "source": [
        "IMAGE_SIZE = [224, 224]\n",
        "\n",
        "vgg = VGG19(input_shape = IMAGE_SIZE + [3], weights='imagenet', include_top=False)"
      ],
      "metadata": {
        "colab": {
          "base_uri": "https://localhost:8080/"
        },
        "id": "B9ASZsv2Ir3z",
        "outputId": "1f31f3c0-b99e-4baf-bc64-a3ec7dbe3085"
      },
      "execution_count": 35,
      "outputs": [
        {
          "output_type": "stream",
          "name": "stdout",
          "text": [
            "Downloading data from https://storage.googleapis.com/tensorflow/keras-applications/vgg19/vgg19_weights_tf_dim_ordering_tf_kernels_notop.h5\n",
            "80134624/80134624 [==============================] - 0s 0us/step\n"
          ]
        }
      ]
    },
    {
      "cell_type": "code",
      "source": [
        "# do not train the pre-trained layers of VGG-19\n",
        "for layer in vgg.layers:\n",
        "  layer.trainable = False"
      ],
      "metadata": {
        "id": "zGMyA6tmJhiY"
      },
      "execution_count": 36,
      "outputs": []
    },
    {
      "cell_type": "markdown",
      "source": [
        "Next, to customize the model, change its last layer alone according to the number of classes in the problem (2, in this case)."
      ],
      "metadata": {
        "id": "l5uPP_N5J8K_"
      }
    },
    {
      "cell_type": "code",
      "source": [
        "x = Flatten()(vgg.output)\n",
        "\n",
        "# adding output layer.Softmax classifier is used as it is multi-class classification\n",
        "prediction = Dense(3, activation='softmax')(x)\n",
        "\n",
        "model = Model(inputs=vgg.input, outputs=prediction)"
      ],
      "metadata": {
        "id": "mUkroJ3vJq7P"
      },
      "execution_count": 37,
      "outputs": []
    },
    {
      "cell_type": "code",
      "source": [
        "# view the structure of the model\n",
        "model.summary()"
      ],
      "metadata": {
        "colab": {
          "base_uri": "https://localhost:8080/"
        },
        "id": "3Qw41d5vKgdf",
        "outputId": "ba04cd63-ee26-4442-ee8c-872d0ade68ad"
      },
      "execution_count": 38,
      "outputs": [
        {
          "output_type": "stream",
          "name": "stdout",
          "text": [
            "Model: \"model\"\n",
            "_________________________________________________________________\n",
            " Layer (type)                Output Shape              Param #   \n",
            "=================================================================\n",
            " input_1 (InputLayer)        [(None, 224, 224, 3)]     0         \n",
            "                                                                 \n",
            " block1_conv1 (Conv2D)       (None, 224, 224, 64)      1792      \n",
            "                                                                 \n",
            " block1_conv2 (Conv2D)       (None, 224, 224, 64)      36928     \n",
            "                                                                 \n",
            " block1_pool (MaxPooling2D)  (None, 112, 112, 64)      0         \n",
            "                                                                 \n",
            " block2_conv1 (Conv2D)       (None, 112, 112, 128)     73856     \n",
            "                                                                 \n",
            " block2_conv2 (Conv2D)       (None, 112, 112, 128)     147584    \n",
            "                                                                 \n",
            " block2_pool (MaxPooling2D)  (None, 56, 56, 128)       0         \n",
            "                                                                 \n",
            " block3_conv1 (Conv2D)       (None, 56, 56, 256)       295168    \n",
            "                                                                 \n",
            " block3_conv2 (Conv2D)       (None, 56, 56, 256)       590080    \n",
            "                                                                 \n",
            " block3_conv3 (Conv2D)       (None, 56, 56, 256)       590080    \n",
            "                                                                 \n",
            " block3_conv4 (Conv2D)       (None, 56, 56, 256)       590080    \n",
            "                                                                 \n",
            " block3_pool (MaxPooling2D)  (None, 28, 28, 256)       0         \n",
            "                                                                 \n",
            " block4_conv1 (Conv2D)       (None, 28, 28, 512)       1180160   \n",
            "                                                                 \n",
            " block4_conv2 (Conv2D)       (None, 28, 28, 512)       2359808   \n",
            "                                                                 \n",
            " block4_conv3 (Conv2D)       (None, 28, 28, 512)       2359808   \n",
            "                                                                 \n",
            " block4_conv4 (Conv2D)       (None, 28, 28, 512)       2359808   \n",
            "                                                                 \n",
            " block4_pool (MaxPooling2D)  (None, 14, 14, 512)       0         \n",
            "                                                                 \n",
            " block5_conv1 (Conv2D)       (None, 14, 14, 512)       2359808   \n",
            "                                                                 \n",
            " block5_conv2 (Conv2D)       (None, 14, 14, 512)       2359808   \n",
            "                                                                 \n",
            " block5_conv3 (Conv2D)       (None, 14, 14, 512)       2359808   \n",
            "                                                                 \n",
            " block5_conv4 (Conv2D)       (None, 14, 14, 512)       2359808   \n",
            "                                                                 \n",
            " block5_pool (MaxPooling2D)  (None, 7, 7, 512)         0         \n",
            "                                                                 \n",
            " flatten (Flatten)           (None, 25088)             0         \n",
            "                                                                 \n",
            " dense (Dense)               (None, 3)                 75267     \n",
            "                                                                 \n",
            "=================================================================\n",
            "Total params: 20099651 (76.67 MB)\n",
            "Trainable params: 75267 (294.01 KB)\n",
            "Non-trainable params: 20024384 (76.39 MB)\n",
            "_________________________________________________________________\n"
          ]
        }
      ]
    },
    {
      "cell_type": "markdown",
      "source": [
        "### 5.2 Compile the model."
      ],
      "metadata": {
        "id": "EsylMAvpKfNQ"
      }
    },
    {
      "cell_type": "code",
      "source": [
        "model.compile(\n",
        "    loss = 'sparse_categorical_crossentropy',\n",
        "    optimizer='adam',\n",
        "    metrics=['accuracy']\n",
        ")"
      ],
      "metadata": {
        "id": "md3JQcqkLA_Z"
      },
      "execution_count": 40,
      "outputs": []
    },
    {
      "cell_type": "markdown",
      "source": [
        "### 5.3 Fit the model."
      ],
      "metadata": {
        "id": "wgdadN4MLT4U"
      }
    },
    {
      "cell_type": "code",
      "source": [
        "# Early stopping to avoid overfitting of model\n",
        "early_stop = EarlyStopping(monitor='val_loss', mode='min', verbose=1, patience=5)"
      ],
      "metadata": {
        "id": "G7iAmzSpLY9S"
      },
      "execution_count": 42,
      "outputs": []
    },
    {
      "cell_type": "code",
      "source": [
        "# fit the model\n",
        "history = model.fit(\n",
        "    X_train,\n",
        "    y_train,\n",
        "    validation_data = (X_val, y_val),\n",
        "    epochs = 10,\n",
        "    callbacks = [early_stop],\n",
        "    batch_size = 32,\n",
        "    shuffle = True\n",
        ")"
      ],
      "metadata": {
        "colab": {
          "base_uri": "https://localhost:8080/"
        },
        "id": "VD7XwO9iL3o5",
        "outputId": "efdf7a9a-8ce5-4a13-c70a-b5cff9c9e7b0"
      },
      "execution_count": 43,
      "outputs": [
        {
          "output_type": "stream",
          "name": "stdout",
          "text": [
            "Epoch 1/10\n",
            "6/6 [==============================] - 211s 37s/step - loss: 1.7136 - accuracy: 0.4969 - val_loss: 0.9453 - val_accuracy: 0.5000\n",
            "Epoch 2/10\n",
            "6/6 [==============================] - 165s 28s/step - loss: 0.6367 - accuracy: 0.7143 - val_loss: 0.3394 - val_accuracy: 0.8235\n",
            "Epoch 3/10\n",
            "6/6 [==============================] - 208s 37s/step - loss: 0.2408 - accuracy: 0.9068 - val_loss: 0.3614 - val_accuracy: 0.8235\n",
            "Epoch 4/10\n",
            "6/6 [==============================] - 181s 31s/step - loss: 0.3169 - accuracy: 0.8447 - val_loss: 0.2969 - val_accuracy: 0.8529\n",
            "Epoch 5/10\n",
            "6/6 [==============================] - 193s 34s/step - loss: 0.1705 - accuracy: 0.9255 - val_loss: 0.3277 - val_accuracy: 0.8235\n",
            "Epoch 6/10\n",
            "6/6 [==============================] - 227s 38s/step - loss: 0.0787 - accuracy: 0.9814 - val_loss: 0.4194 - val_accuracy: 0.8235\n",
            "Epoch 7/10\n",
            "6/6 [==============================] - 179s 29s/step - loss: 0.0493 - accuracy: 0.9876 - val_loss: 0.3885 - val_accuracy: 0.8235\n",
            "Epoch 8/10\n",
            "6/6 [==============================] - 168s 28s/step - loss: 0.0382 - accuracy: 1.0000 - val_loss: 0.3551 - val_accuracy: 0.8824\n",
            "Epoch 9/10\n",
            "6/6 [==============================] - 168s 29s/step - loss: 0.0249 - accuracy: 1.0000 - val_loss: 0.4063 - val_accuracy: 0.8529\n",
            "Epoch 9: early stopping\n"
          ]
        }
      ]
    },
    {
      "cell_type": "markdown",
      "source": [
        "## 6. Plot the loss and accuracy."
      ],
      "metadata": {
        "id": "0YbWm758MQXR"
      }
    },
    {
      "cell_type": "code",
      "source": [
        "# accuracy\n",
        "plt.plot(history.history['accuracy'], label='train accuracy')\n",
        "plt.plot(history.history['val_accuracy'], label='val accuracy')\n",
        "plt.legend()\n",
        "plt.show()"
      ],
      "metadata": {
        "colab": {
          "base_uri": "https://localhost:8080/",
          "height": 430
        },
        "id": "GFIvf0ntMUiW",
        "outputId": "2846f358-535f-4735-b0fe-f41c66f39e3c"
      },
      "execution_count": 44,
      "outputs": [
        {
          "output_type": "display_data",
          "data": {
            "text/plain": [
              "<Figure size 640x480 with 1 Axes>"
            ],
            "image/png": "[encoded data removed]"
          },
          "metadata": {}
        }
      ]
    },
    {
      "cell_type": "code",
      "source": [
        "# loss\n",
        "plt.plot(history.history['loss'], label='train loss')\n",
        "plt.plot(history.history['val_loss'], label='val loss')\n",
        "plt.legend()\n",
        "plt.show()"
      ],
      "metadata": {
        "colab": {
          "base_uri": "https://localhost:8080/",
          "height": 430
        },
        "id": "_-mAEAiSOBph",
        "outputId": "769ad851-6c8f-49bd-d31e-5ea651a6679c"
      },
      "execution_count": 45,
      "outputs": [
        {
          "output_type": "display_data",
          "data": {
            "text/plain": [
              "<Figure size 640x480 with 1 Axes>"
            ],
            "image/png": "[encoded data removed]"
          },
          "metadata": {}
        }
      ]
    },
    {
      "cell_type": "markdown",
      "source": [
        "## 7. Model Evaluation"
      ],
      "metadata": {
        "id": "YNQiWOfNOpKK"
      }
    },
    {
      "cell_type": "code",
      "source": [
        "# testing accuracy\n",
        "model.evaluate(X_test, y_test, batch_size = 32)"
      ],
      "metadata": {
        "colab": {
          "base_uri": "https://localhost:8080/"
        },
        "id": "cKfmEFZSOrQZ",
        "outputId": "c249810f-45b7-4219-efa5-877febb4134f"
      },
      "execution_count": 46,
      "outputs": [
        {
          "output_type": "stream",
          "name": "stdout",
          "text": [
            "2/2 [==============================] - 27s 2s/step - loss: 0.1967 - accuracy: 0.9143\n"
          ]
        },
        {
          "output_type": "execute_result",
          "data": {
            "text/plain": [
              "[0.1966887265443802, 0.9142857193946838]"
            ]
          },
          "metadata": {},
          "execution_count": 46
        }
      ]
    },
    {
      "cell_type": "code",
      "source": [
        "# classification report\n",
        "y_pred = model.predict(X_test)\n",
        "y_pred = np.argmax(y_pred, axis=1)\n",
        "print(classification_report(y_pred, y_test))"
      ],
      "metadata": {
        "colab": {
          "base_uri": "https://localhost:8080/"
        },
        "id": "OacKYzwlPOlG",
        "outputId": "9e4d8ce5-1f4a-4487-fd11-65d255ea3aa9"
      },
      "execution_count": 47,
      "outputs": [
        {
          "output_type": "stream",
          "name": "stdout",
          "text": [
            "2/2 [==============================] - 27s 2s/step\n",
            "              precision    recall  f1-score   support\n",
            "\n",
            "           0       0.83      1.00      0.91        15\n",
            "           1       1.00      0.85      0.92        20\n",
            "\n",
            "    accuracy                           0.91        35\n",
            "   macro avg       0.92      0.93      0.91        35\n",
            "weighted avg       0.93      0.91      0.91        35\n",
            "\n"
          ]
        }
      ]
    },
    {
      "cell_type": "code",
      "source": [
        "# confusion matrix\n",
        "cm = confusion_matrix(y_pred, y_test)\n",
        "disp = ConfusionMatrixDisplay(cm)\n",
        "disp.plot()\n",
        "plt.show()"
      ],
      "metadata": {
        "colab": {
          "base_uri": "https://localhost:8080/",
          "height": 449
        },
        "id": "h3xFgJ15PnfB",
        "outputId": "0a4320d4-ca70-4014-b9b4-40a03166d238"
      },
      "execution_count": 50,
      "outputs": [
        {
          "output_type": "display_data",
          "data": {
            "text/plain": [
              "<Figure size 640x480 with 2 Axes>"
            ],
            "image/png": "[encoded data removed]"
          },
          "metadata": {}
        }
      ]
    }
  ]
}