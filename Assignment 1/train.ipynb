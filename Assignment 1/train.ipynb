{
  "nbformat": 4,
  "nbformat_minor": 0,
  "metadata": {
    "colab": {
      "provenance": []
    },
    "kernelspec": {
      "name": "python3",
      "display_name": "Python 3"
    },
    "language_info": {
      "name": "python"
    }
  },
  "cells": [
    {
      "cell_type": "markdown",
      "source": [
        "Read the train.csv, validation.csv and test.csv files from the Google Drive folder in which it was saved in `prepare.ipynb` notebook."
      ],
      "metadata": {
        "id": "BiXuueCus3mg"
      }
    },
    {
      "cell_type": "code",
      "source": [
        "import numpy as np\n",
        "import pandas as pd"
      ],
      "metadata": {
        "id": "8PuwNZU3wmv_"
      },
      "execution_count": 1,
      "outputs": []
    },
    {
      "cell_type": "code",
      "source": [
        "from google.colab import drive\n",
        "drive.mount('/content/drive')"
      ],
      "metadata": {
        "id": "_AO-Og2ztp4Y",
        "colab": {
          "base_uri": "https://localhost:8080/"
        },
        "outputId": "ca3bf0c8-68aa-4bda-966e-d51a4c86ad54"
      },
      "execution_count": 2,
      "outputs": [
        {
          "output_type": "stream",
          "name": "stdout",
          "text": [
            "Mounted at /content/drive\n"
          ]
        }
      ]
    },
    {
      "cell_type": "code",
      "source": [
        "file_path = '/content/drive/MyDrive/AML/Assignment 1'"
      ],
      "metadata": {
        "id": "r5dJO0vNutLX"
      },
      "execution_count": 3,
      "outputs": []
    },
    {
      "cell_type": "code",
      "source": [
        "df_train = pd.read_csv(file_path + \"/train.csv\")\n",
        "df_train.head()"
      ],
      "metadata": {
        "colab": {
          "base_uri": "https://localhost:8080/",
          "height": 235
        },
        "id": "9zm1xyf9zZYD",
        "outputId": "60e7f96c-b871-467c-bbbe-a3a930659337"
      },
      "execution_count": 5,
      "outputs": [
        {
          "output_type": "execute_result",
          "data": {
            "text/plain": [
              "          0    1    2    3    4    5    6    7    8    9  ...  37321  37322  \\\n",
              "0  0.000000  0.0  0.0  0.0  0.0  0.0  0.0  0.0  0.0  0.0  ...    0.0    0.0   \n",
              "1  0.054163  0.0  0.0  0.0  0.0  0.0  0.0  0.0  0.0  0.0  ...    0.0    0.0   \n",
              "2  0.000000  0.0  0.0  0.0  0.0  0.0  0.0  0.0  0.0  0.0  ...    0.0    0.0   \n",
              "3  0.000000  0.0  0.0  0.0  0.0  0.0  0.0  0.0  0.0  0.0  ...    0.0    0.0   \n",
              "4  0.000000  0.0  0.0  0.0  0.0  0.0  0.0  0.0  0.0  0.0  ...    0.0    0.0   \n",
              "\n",
              "   37323  37324  37325  37326  37327  37328  37329  spam  \n",
              "0    0.0    0.0    0.0    0.0    0.0    0.0    0.0     0  \n",
              "1    0.0    0.0    0.0    0.0    0.0    0.0    0.0     0  \n",
              "2    0.0    0.0    0.0    0.0    0.0    0.0    0.0     0  \n",
              "3    0.0    0.0    0.0    0.0    0.0    0.0    0.0     0  \n",
              "4    0.0    0.0    0.0    0.0    0.0    0.0    0.0     0  \n",
              "\n",
              "[5 rows x 37331 columns]"
            ],
            "text/html": [
              "\n",
              "  <div id=\"df-f7e2614c-be5a-41e3-bb82-5d593acc2b02\" class=\"colab-df-container\">\n",
              "    <div>\n",
              "<style scoped>\n",
              "    .dataframe tbody tr th:only-of-type {\n",
              "        vertical-align: middle;\n",
              "    }\n",
              "\n",
              "    .dataframe tbody tr th {\n",
              "        vertical-align: top;\n",
              "    }\n",
              "\n",
              "    .dataframe thead th {\n",
              "        text-align: right;\n",
              "    }\n",
              "</style>\n",
              "<table border=\"1\" class=\"dataframe\">\n",
              "  <thead>\n",
              "    <tr style=\"text-align: right;\">\n",
              "      <th></th>\n",
              "      <th>0</th>\n",
              "      <th>1</th>\n",
              "      <th>2</th>\n",
              "      <th>3</th>\n",
              "      <th>4</th>\n",
              "      <th>5</th>\n",
              "      <th>6</th>\n",
              "      <th>7</th>\n",
              "      <th>8</th>\n",
              "      <th>9</th>\n",
              "      <th>...</th>\n",
              "      <th>37321</th>\n",
              "      <th>37322</th>\n",
              "      <th>37323</th>\n",
              "      <th>37324</th>\n",
              "      <th>37325</th>\n",
              "      <th>37326</th>\n",
              "      <th>37327</th>\n",
              "      <th>37328</th>\n",
              "      <th>37329</th>\n",
              "      <th>spam</th>\n",
              "    </tr>\n",
              "  </thead>\n",
              "  <tbody>\n",
              "    <tr>\n",
              "      <th>0</th>\n",
              "      <td>0.000000</td>\n",
              "      <td>0.0</td>\n",
              "      <td>0.0</td>\n",
              "      <td>0.0</td>\n",
              "      <td>0.0</td>\n",
              "      <td>0.0</td>\n",
              "      <td>0.0</td>\n",
              "      <td>0.0</td>\n",
              "      <td>0.0</td>\n",
              "      <td>0.0</td>\n",
              "      <td>...</td>\n",
              "      <td>0.0</td>\n",
              "      <td>0.0</td>\n",
              "      <td>0.0</td>\n",
              "      <td>0.0</td>\n",
              "      <td>0.0</td>\n",
              "      <td>0.0</td>\n",
              "      <td>0.0</td>\n",
              "      <td>0.0</td>\n",
              "      <td>0.0</td>\n",
              "      <td>0</td>\n",
              "    </tr>\n",
              "    <tr>\n",
              "      <th>1</th>\n",
              "      <td>0.054163</td>\n",
              "      <td>0.0</td>\n",
              "      <td>0.0</td>\n",
              "      <td>0.0</td>\n",
              "      <td>0.0</td>\n",
              "      <td>0.0</td>\n",
              "      <td>0.0</td>\n",
              "      <td>0.0</td>\n",
              "      <td>0.0</td>\n",
              "      <td>0.0</td>\n",
              "      <td>...</td>\n",
              "      <td>0.0</td>\n",
              "      <td>0.0</td>\n",
              "      <td>0.0</td>\n",
              "      <td>0.0</td>\n",
              "      <td>0.0</td>\n",
              "      <td>0.0</td>\n",
              "      <td>0.0</td>\n",
              "      <td>0.0</td>\n",
              "      <td>0.0</td>\n",
              "      <td>0</td>\n",
              "    </tr>\n",
              "    <tr>\n",
              "      <th>2</th>\n",
              "      <td>0.000000</td>\n",
              "      <td>0.0</td>\n",
              "      <td>0.0</td>\n",
              "      <td>0.0</td>\n",
              "      <td>0.0</td>\n",
              "      <td>0.0</td>\n",
              "      <td>0.0</td>\n",
              "      <td>0.0</td>\n",
              "      <td>0.0</td>\n",
              "      <td>0.0</td>\n",
              "      <td>...</td>\n",
              "      <td>0.0</td>\n",
              "      <td>0.0</td>\n",
              "      <td>0.0</td>\n",
              "      <td>0.0</td>\n",
              "      <td>0.0</td>\n",
              "      <td>0.0</td>\n",
              "      <td>0.0</td>\n",
              "      <td>0.0</td>\n",
              "      <td>0.0</td>\n",
              "      <td>0</td>\n",
              "    </tr>\n",
              "    <tr>\n",
              "      <th>3</th>\n",
              "      <td>0.000000</td>\n",
              "      <td>0.0</td>\n",
              "      <td>0.0</td>\n",
              "      <td>0.0</td>\n",
              "      <td>0.0</td>\n",
              "      <td>0.0</td>\n",
              "      <td>0.0</td>\n",
              "      <td>0.0</td>\n",
              "      <td>0.0</td>\n",
              "      <td>0.0</td>\n",
              "      <td>...</td>\n",
              "      <td>0.0</td>\n",
              "      <td>0.0</td>\n",
              "      <td>0.0</td>\n",
              "      <td>0.0</td>\n",
              "      <td>0.0</td>\n",
              "      <td>0.0</td>\n",
              "      <td>0.0</td>\n",
              "      <td>0.0</td>\n",
              "      <td>0.0</td>\n",
              "      <td>0</td>\n",
              "    </tr>\n",
              "    <tr>\n",
              "      <th>4</th>\n",
              "      <td>0.000000</td>\n",
              "      <td>0.0</td>\n",
              "      <td>0.0</td>\n",
              "      <td>0.0</td>\n",
              "      <td>0.0</td>\n",
              "      <td>0.0</td>\n",
              "      <td>0.0</td>\n",
              "      <td>0.0</td>\n",
              "      <td>0.0</td>\n",
              "      <td>0.0</td>\n",
              "      <td>...</td>\n",
              "      <td>0.0</td>\n",
              "      <td>0.0</td>\n",
              "      <td>0.0</td>\n",
              "      <td>0.0</td>\n",
              "      <td>0.0</td>\n",
              "      <td>0.0</td>\n",
              "      <td>0.0</td>\n",
              "      <td>0.0</td>\n",
              "      <td>0.0</td>\n",
              "      <td>0</td>\n",
              "    </tr>\n",
              "  </tbody>\n",
              "</table>\n",
              "<p>5 rows × 37331 columns</p>\n",
              "</div>\n",
              "    <div class=\"colab-df-buttons\">\n",
              "\n",
              "  <div class=\"colab-df-container\">\n",
              "    <button class=\"colab-df-convert\" onclick=\"convertToInteractive('df-f7e2614c-be5a-41e3-bb82-5d593acc2b02')\"\n",
              "            title=\"Convert this dataframe to an interactive table.\"\n",
              "            style=\"display:none;\">\n",
              "\n",
              "  <svg xmlns=\"http://www.w3.org/2000/svg\" height=\"24px\" viewBox=\"0 -960 960 960\">\n",
              "    <path d=\"M120-120v-720h720v720H120Zm60-500h600v-160H180v160Zm220 220h160v-160H400v160Zm0 220h160v-160H400v160ZM180-400h160v-160H180v160Zm440 0h160v-160H620v160ZM180-180h160v-160H180v160Zm440 0h160v-160H620v160Z\"/>\n",
              "  </svg>\n",
              "    </button>\n",
              "\n",
              "  <style>\n",
              "    .colab-df-container {\n",
              "      display:flex;\n",
              "      gap: 12px;\n",
              "    }\n",
              "\n",
              "    .colab-df-convert {\n",
              "      background-color: #E8F0FE;\n",
              "      border: none;\n",
              "      border-radius: 50%;\n",
              "      cursor: pointer;\n",
              "      display: none;\n",
              "      fill: #1967D2;\n",
              "      height: 32px;\n",
              "      padding: 0 0 0 0;\n",
              "      width: 32px;\n",
              "    }\n",
              "\n",
              "    .colab-df-convert:hover {\n",
              "      background-color: #E2EBFA;\n",
              "      box-shadow: 0px 1px 2px rgba(60, 64, 67, 0.3), 0px 1px 3px 1px rgba(60, 64, 67, 0.15);\n",
              "      fill: #174EA6;\n",
              "    }\n",
              "\n",
              "    .colab-df-buttons div {\n",
              "      margin-bottom: 4px;\n",
              "    }\n",
              "\n",
              "    [theme=dark] .colab-df-convert {\n",
              "      background-color: #3B4455;\n",
              "      fill: #D2E3FC;\n",
              "    }\n",
              "\n",
              "    [theme=dark] .colab-df-convert:hover {\n",
              "      background-color: #434B5C;\n",
              "      box-shadow: 0px 1px 3px 1px rgba(0, 0, 0, 0.15);\n",
              "      filter: drop-shadow(0px 1px 2px rgba(0, 0, 0, 0.3));\n",
              "      fill: #FFFFFF;\n",
              "    }\n",
              "  </style>\n",
              "\n",
              "    <script>\n",
              "      const buttonEl =\n",
              "        document.querySelector('#df-f7e2614c-be5a-41e3-bb82-5d593acc2b02 button.colab-df-convert');\n",
              "      buttonEl.style.display =\n",
              "        google.colab.kernel.accessAllowed ? 'block' : 'none';\n",
              "\n",
              "      async function convertToInteractive(key) {\n",
              "        const element = document.querySelector('#df-f7e2614c-be5a-41e3-bb82-5d593acc2b02');\n",
              "        const dataTable =\n",
              "          await google.colab.kernel.invokeFunction('convertToInteractive',\n",
              "                                                    [key], {});\n",
              "        if (!dataTable) return;\n",
              "\n",
              "        const docLinkHtml = 'Like what you see? Visit the ' +\n",
              "          '<a target=\"_blank\" href=https://colab.research.google.com/notebooks/data_table.ipynb>data table notebook</a>'\n",
              "          + ' to learn more about interactive tables.';\n",
              "        element.innerHTML = '';\n",
              "        dataTable['output_type'] = 'display_data';\n",
              "        await google.colab.output.renderOutput(dataTable, element);\n",
              "        const docLink = document.createElement('div');\n",
              "        docLink.innerHTML = docLinkHtml;\n",
              "        element.appendChild(docLink);\n",
              "      }\n",
              "    </script>\n",
              "  </div>\n",
              "\n",
              "\n",
              "<div id=\"df-f60ec697-c412-4c15-a8fb-5872c54e9507\">\n",
              "  <button class=\"colab-df-quickchart\" onclick=\"quickchart('df-f60ec697-c412-4c15-a8fb-5872c54e9507')\"\n",
              "            title=\"Suggest charts\"\n",
              "            style=\"display:none;\">\n",
              "\n",
              "<svg xmlns=\"http://www.w3.org/2000/svg\" height=\"24px\"viewBox=\"0 0 24 24\"\n",
              "     width=\"24px\">\n",
              "    <g>\n",
              "        <path d=\"M19 3H5c-1.1 0-2 .9-2 2v14c0 1.1.9 2 2 2h14c1.1 0 2-.9 2-2V5c0-1.1-.9-2-2-2zM9 17H7v-7h2v7zm4 0h-2V7h2v10zm4 0h-2v-4h2v4z\"/>\n",
              "    </g>\n",
              "</svg>\n",
              "  </button>\n",
              "\n",
              "<style>\n",
              "  .colab-df-quickchart {\n",
              "      --bg-color: #E8F0FE;\n",
              "      --fill-color: #1967D2;\n",
              "      --hover-bg-color: #E2EBFA;\n",
              "      --hover-fill-color: #174EA6;\n",
              "      --disabled-fill-color: #AAA;\n",
              "      --disabled-bg-color: #DDD;\n",
              "  }\n",
              "\n",
              "  [theme=dark] .colab-df-quickchart {\n",
              "      --bg-color: #3B4455;\n",
              "      --fill-color: #D2E3FC;\n",
              "      --hover-bg-color: #434B5C;\n",
              "      --hover-fill-color: #FFFFFF;\n",
              "      --disabled-bg-color: #3B4455;\n",
              "      --disabled-fill-color: #666;\n",
              "  }\n",
              "\n",
              "  .colab-df-quickchart {\n",
              "    background-color: var(--bg-color);\n",
              "    border: none;\n",
              "    border-radius: 50%;\n",
              "    cursor: pointer;\n",
              "    display: none;\n",
              "    fill: var(--fill-color);\n",
              "    height: 32px;\n",
              "    padding: 0;\n",
              "    width: 32px;\n",
              "  }\n",
              "\n",
              "  .colab-df-quickchart:hover {\n",
              "    background-color: var(--hover-bg-color);\n",
              "    box-shadow: 0 1px 2px rgba(60, 64, 67, 0.3), 0 1px 3px 1px rgba(60, 64, 67, 0.15);\n",
              "    fill: var(--button-hover-fill-color);\n",
              "  }\n",
              "\n",
              "  .colab-df-quickchart-complete:disabled,\n",
              "  .colab-df-quickchart-complete:disabled:hover {\n",
              "    background-color: var(--disabled-bg-color);\n",
              "    fill: var(--disabled-fill-color);\n",
              "    box-shadow: none;\n",
              "  }\n",
              "\n",
              "  .colab-df-spinner {\n",
              "    border: 2px solid var(--fill-color);\n",
              "    border-color: transparent;\n",
              "    border-bottom-color: var(--fill-color);\n",
              "    animation:\n",
              "      spin 1s steps(1) infinite;\n",
              "  }\n",
              "\n",
              "  @keyframes spin {\n",
              "    0% {\n",
              "      border-color: transparent;\n",
              "      border-bottom-color: var(--fill-color);\n",
              "      border-left-color: var(--fill-color);\n",
              "    }\n",
              "    20% {\n",
              "      border-color: transparent;\n",
              "      border-left-color: var(--fill-color);\n",
              "      border-top-color: var(--fill-color);\n",
              "    }\n",
              "    30% {\n",
              "      border-color: transparent;\n",
              "      border-left-color: var(--fill-color);\n",
              "      border-top-color: var(--fill-color);\n",
              "      border-right-color: var(--fill-color);\n",
              "    }\n",
              "    40% {\n",
              "      border-color: transparent;\n",
              "      border-right-color: var(--fill-color);\n",
              "      border-top-color: var(--fill-color);\n",
              "    }\n",
              "    60% {\n",
              "      border-color: transparent;\n",
              "      border-right-color: var(--fill-color);\n",
              "    }\n",
              "    80% {\n",
              "      border-color: transparent;\n",
              "      border-right-color: var(--fill-color);\n",
              "      border-bottom-color: var(--fill-color);\n",
              "    }\n",
              "    90% {\n",
              "      border-color: transparent;\n",
              "      border-bottom-color: var(--fill-color);\n",
              "    }\n",
              "  }\n",
              "</style>\n",
              "\n",
              "  <script>\n",
              "    async function quickchart(key) {\n",
              "      const quickchartButtonEl =\n",
              "        document.querySelector('#' + key + ' button');\n",
              "      quickchartButtonEl.disabled = true;  // To prevent multiple clicks.\n",
              "      quickchartButtonEl.classList.add('colab-df-spinner');\n",
              "      try {\n",
              "        const charts = await google.colab.kernel.invokeFunction(\n",
              "            'suggestCharts', [key], {});\n",
              "      } catch (error) {\n",
              "        console.error('Error during call to suggestCharts:', error);\n",
              "      }\n",
              "      quickchartButtonEl.classList.remove('colab-df-spinner');\n",
              "      quickchartButtonEl.classList.add('colab-df-quickchart-complete');\n",
              "    }\n",
              "    (() => {\n",
              "      let quickchartButtonEl =\n",
              "        document.querySelector('#df-f60ec697-c412-4c15-a8fb-5872c54e9507 button');\n",
              "      quickchartButtonEl.style.display =\n",
              "        google.colab.kernel.accessAllowed ? 'block' : 'none';\n",
              "    })();\n",
              "  </script>\n",
              "</div>\n",
              "\n",
              "    </div>\n",
              "  </div>\n"
            ]
          },
          "metadata": {},
          "execution_count": 5
        }
      ]
    },
    {
      "cell_type": "code",
      "source": [
        "df_val = pd.read_csv(file_path + '/validation.csv')"
      ],
      "metadata": {
        "id": "9Pchi8o65cBq"
      },
      "execution_count": 17,
      "outputs": []
    },
    {
      "cell_type": "code",
      "source": [
        "df_test = pd.read_csv(file_path + '/test.csv')"
      ],
      "metadata": {
        "id": "0wEM_s3H5fA0"
      },
      "execution_count": 18,
      "outputs": []
    },
    {
      "cell_type": "markdown",
      "source": [
        "### **STEP 1**: Fit a model on train data\n"
      ],
      "metadata": {
        "id": "I0El14Q0sJH8"
      }
    },
    {
      "cell_type": "markdown",
      "source": [
        "Firstly, we split the training dataset into `train_X` containing features and `train_y` containing the target."
      ],
      "metadata": {
        "id": "Cxr7KWCv2rGC"
      }
    },
    {
      "cell_type": "code",
      "source": [
        "train_X = df_train[df_train.columns[:-1]]\n",
        "train_y = df_train['spam'].copy()"
      ],
      "metadata": {
        "id": "L5wUihphwpW3"
      },
      "execution_count": 11,
      "outputs": []
    },
    {
      "cell_type": "markdown",
      "source": [
        "Next, We fit the training data on a logistic regression model"
      ],
      "metadata": {
        "id": "LGHTOhJG3Fzl"
      }
    },
    {
      "cell_type": "code",
      "source": [
        "from sklearn.linear_model import LogisticRegression\n",
        "\n",
        "log_reg_model = LogisticRegression(random_state = 0)\n",
        "log_reg_model.fit(train_X, train_y)"
      ],
      "metadata": {
        "colab": {
          "base_uri": "https://localhost:8080/",
          "height": 74
        },
        "id": "5KVCYA0w3PS2",
        "outputId": "d9fec691-e510-417e-af53-5cfc4c39e009"
      },
      "execution_count": 13,
      "outputs": [
        {
          "output_type": "execute_result",
          "data": {
            "text/plain": [
              "LogisticRegression(random_state=0)"
            ],
            "text/html": [
              "<style>#sk-container-id-1 {color: black;background-color: white;}#sk-container-id-1 pre{padding: 0;}#sk-container-id-1 div.sk-toggleable {background-color: white;}#sk-container-id-1 label.sk-toggleable__label {cursor: pointer;display: block;width: 100%;margin-bottom: 0;padding: 0.3em;box-sizing: border-box;text-align: center;}#sk-container-id-1 label.sk-toggleable__label-arrow:before {content: \"▸\";float: left;margin-right: 0.25em;color: #696969;}#sk-container-id-1 label.sk-toggleable__label-arrow:hover:before {color: black;}#sk-container-id-1 div.sk-estimator:hover label.sk-toggleable__label-arrow:before {color: black;}#sk-container-id-1 div.sk-toggleable__content {max-height: 0;max-width: 0;overflow: hidden;text-align: left;background-color: #f0f8ff;}#sk-container-id-1 div.sk-toggleable__content pre {margin: 0.2em;color: black;border-radius: 0.25em;background-color: #f0f8ff;}#sk-container-id-1 input.sk-toggleable__control:checked~div.sk-toggleable__content {max-height: 200px;max-width: 100%;overflow: auto;}#sk-container-id-1 input.sk-toggleable__control:checked~label.sk-toggleable__label-arrow:before {content: \"▾\";}#sk-container-id-1 div.sk-estimator input.sk-toggleable__control:checked~label.sk-toggleable__label {background-color: #d4ebff;}#sk-container-id-1 div.sk-label input.sk-toggleable__control:checked~label.sk-toggleable__label {background-color: #d4ebff;}#sk-container-id-1 input.sk-hidden--visually {border: 0;clip: rect(1px 1px 1px 1px);clip: rect(1px, 1px, 1px, 1px);height: 1px;margin: -1px;overflow: hidden;padding: 0;position: absolute;width: 1px;}#sk-container-id-1 div.sk-estimator {font-family: monospace;background-color: #f0f8ff;border: 1px dotted black;border-radius: 0.25em;box-sizing: border-box;margin-bottom: 0.5em;}#sk-container-id-1 div.sk-estimator:hover {background-color: #d4ebff;}#sk-container-id-1 div.sk-parallel-item::after {content: \"\";width: 100%;border-bottom: 1px solid gray;flex-grow: 1;}#sk-container-id-1 div.sk-label:hover label.sk-toggleable__label {background-color: #d4ebff;}#sk-container-id-1 div.sk-serial::before {content: \"\";position: absolute;border-left: 1px solid gray;box-sizing: border-box;top: 0;bottom: 0;left: 50%;z-index: 0;}#sk-container-id-1 div.sk-serial {display: flex;flex-direction: column;align-items: center;background-color: white;padding-right: 0.2em;padding-left: 0.2em;position: relative;}#sk-container-id-1 div.sk-item {position: relative;z-index: 1;}#sk-container-id-1 div.sk-parallel {display: flex;align-items: stretch;justify-content: center;background-color: white;position: relative;}#sk-container-id-1 div.sk-item::before, #sk-container-id-1 div.sk-parallel-item::before {content: \"\";position: absolute;border-left: 1px solid gray;box-sizing: border-box;top: 0;bottom: 0;left: 50%;z-index: -1;}#sk-container-id-1 div.sk-parallel-item {display: flex;flex-direction: column;z-index: 1;position: relative;background-color: white;}#sk-container-id-1 div.sk-parallel-item:first-child::after {align-self: flex-end;width: 50%;}#sk-container-id-1 div.sk-parallel-item:last-child::after {align-self: flex-start;width: 50%;}#sk-container-id-1 div.sk-parallel-item:only-child::after {width: 0;}#sk-container-id-1 div.sk-dashed-wrapped {border: 1px dashed gray;margin: 0 0.4em 0.5em 0.4em;box-sizing: border-box;padding-bottom: 0.4em;background-color: white;}#sk-container-id-1 div.sk-label label {font-family: monospace;font-weight: bold;display: inline-block;line-height: 1.2em;}#sk-container-id-1 div.sk-label-container {text-align: center;}#sk-container-id-1 div.sk-container {/* jupyter's `normalize.less` sets `[hidden] { display: none; }` but bootstrap.min.css set `[hidden] { display: none !important; }` so we also need the `!important` here to be able to override the default hidden behavior on the sphinx rendered scikit-learn.org. See: https://github.com/scikit-learn/scikit-learn/issues/21755 */display: inline-block !important;position: relative;}#sk-container-id-1 div.sk-text-repr-fallback {display: none;}</style><div id=\"sk-container-id-1\" class=\"sk-top-container\"><div class=\"sk-text-repr-fallback\"><pre>LogisticRegression(random_state=0)</pre><b>In a Jupyter environment, please rerun this cell to show the HTML representation or trust the notebook. <br />On GitHub, the HTML representation is unable to render, please try loading this page with nbviewer.org.</b></div><div class=\"sk-container\" hidden><div class=\"sk-item\"><div class=\"sk-estimator sk-toggleable\"><input class=\"sk-toggleable__control sk-hidden--visually\" id=\"sk-estimator-id-1\" type=\"checkbox\" checked><label for=\"sk-estimator-id-1\" class=\"sk-toggleable__label sk-toggleable__label-arrow\">LogisticRegression</label><div class=\"sk-toggleable__content\"><pre>LogisticRegression(random_state=0)</pre></div></div></div></div></div>"
            ]
          },
          "metadata": {},
          "execution_count": 13
        }
      ]
    },
    {
      "cell_type": "markdown",
      "source": [
        "### **STEP  2**: Score a model on given data\n"
      ],
      "metadata": {
        "id": "D5H9Si4I9vGS"
      }
    },
    {
      "cell_type": "code",
      "source": [
        "print('Training score:', format(log_reg_model.score(train_X, train_y), '.3f'))"
      ],
      "metadata": {
        "colab": {
          "base_uri": "https://localhost:8080/"
        },
        "id": "wkwEG9Uv9w85",
        "outputId": "fe0841bd-dcc7-4090-e5bd-3c042649cabf"
      },
      "execution_count": 43,
      "outputs": [
        {
          "output_type": "stream",
          "name": "stdout",
          "text": [
            "Training score: 0.996\n"
          ]
        }
      ]
    },
    {
      "cell_type": "markdown",
      "source": [
        "### **STEP  3**: Evaluate the model predictions.\n"
      ],
      "metadata": {
        "id": "j1Sww55zsN6B"
      }
    },
    {
      "cell_type": "markdown",
      "source": [
        "Next, we find the accuracy and f1 score of the model on the training dataset."
      ],
      "metadata": {
        "id": "DlbpV9xm6FWV"
      }
    },
    {
      "cell_type": "code",
      "source": [
        "from sklearn.metrics import accuracy_score, f1_score\n",
        "\n",
        "y_pred = log_reg_model.predict(train_X)\n",
        "print('accuracy:', round(accuracy_score(train_y, y_pred),3))\n",
        "print('f1 score:', round(f1_score(train_y, y_pred),3))"
      ],
      "metadata": {
        "colab": {
          "base_uri": "https://localhost:8080/"
        },
        "id": "uwyEcU_-CvIG",
        "outputId": "5f903920-d7bf-4837-8ffa-05b5505fba4d"
      },
      "execution_count": 46,
      "outputs": [
        {
          "output_type": "stream",
          "name": "stdout",
          "text": [
            "accuracy: 0.996\n",
            "f1 score: 0.99\n"
          ]
        }
      ]
    },
    {
      "cell_type": "markdown",
      "source": [
        "Next, we obtain a confusion matrix for the training dataset."
      ],
      "metadata": {
        "id": "YECDU3Zk7HUK"
      }
    },
    {
      "cell_type": "code",
      "source": [
        "from sklearn.metrics import ConfusionMatrixDisplay\n",
        "cm_display = ConfusionMatrixDisplay.from_predictions(train_y, y_pred)"
      ],
      "metadata": {
        "colab": {
          "base_uri": "https://localhost:8080/",
          "height": 449
        },
        "id": "y7OzkEiI5L5M",
        "outputId": "2f27f059-c540-4eb9-dc07-316899d242ea"
      },
      "execution_count": 33,
      "outputs": [
        {
          "output_type": "display_data",
          "data": {
            "text/plain": [
              "<Figure size 640x480 with 2 Axes>"
            ],
            "image/png": "[encoded data removed]"
          },
          "metadata": {}
        }
      ]
    },
    {
      "cell_type": "markdown",
      "source": [
        "We can also obtain the training classification report"
      ],
      "metadata": {
        "id": "WDJ8YMFu-i6j"
      }
    },
    {
      "cell_type": "code",
      "source": [
        "from sklearn.metrics import classification_report\n",
        "print('Training classification report\\n', classification_report(train_y, y_pred))"
      ],
      "metadata": {
        "colab": {
          "base_uri": "https://localhost:8080/"
        },
        "id": "xSKDa9mG-n6N",
        "outputId": "93d1287d-4917-4bd9-9331-8581a3e0c576"
      },
      "execution_count": 34,
      "outputs": [
        {
          "output_type": "stream",
          "name": "stdout",
          "text": [
            "Training classification report\n",
            "               precision    recall  f1-score   support\n",
            "\n",
            "           0       0.99      1.00      1.00      3057\n",
            "           1       1.00      0.98      0.99       952\n",
            "\n",
            "    accuracy                           1.00      4009\n",
            "   macro avg       1.00      0.99      0.99      4009\n",
            "weighted avg       1.00      1.00      1.00      4009\n",
            "\n"
          ]
        }
      ]
    },
    {
      "cell_type": "markdown",
      "source": [
        "Observation: The Logistic Regression model is able to detect spam emails with 99.55% accuracy on the training data."
      ],
      "metadata": {
        "id": "fTV1kLBdAprD"
      }
    },
    {
      "cell_type": "markdown",
      "source": [
        "### **STEP 4**: Validate the model"
      ],
      "metadata": {
        "id": "XO8pefBHsRr5"
      }
    },
    {
      "cell_type": "markdown",
      "source": [
        "#### (i) Score on train and validation"
      ],
      "metadata": {
        "id": "1rc9lw-VsRxe"
      }
    },
    {
      "cell_type": "markdown",
      "source": [
        "We have already fit the Logistic Regression model on training data.\n",
        "\n",
        "Now let us validate the model using the validation dataset"
      ],
      "metadata": {
        "id": "24pLr-1_sRxe"
      }
    },
    {
      "cell_type": "markdown",
      "source": [
        "For this, we must first split the validation dataset into `val_X` containing features and `val_y` containing the target."
      ],
      "metadata": {
        "id": "v7YC4fsPBboG"
      }
    },
    {
      "cell_type": "code",
      "source": [
        "val_X = df_val[df_val.columns[:-1]]\n",
        "val_y = df_val['spam'].copy()"
      ],
      "metadata": {
        "id": "pJAp_6Gz8EIS"
      },
      "execution_count": 35,
      "outputs": []
    },
    {
      "cell_type": "markdown",
      "source": [
        "Now, let us score the model on the validation dataset."
      ],
      "metadata": {
        "id": "I6rWzXTqBhZP"
      }
    },
    {
      "cell_type": "code",
      "source": [
        "print(\"Validation score:\", round(log_reg_model.score(val_X, val_y),3))"
      ],
      "metadata": {
        "colab": {
          "base_uri": "https://localhost:8080/"
        },
        "id": "sTADNNToBZmp",
        "outputId": "0747db84-bb2f-426a-834d-76cd3abda491"
      },
      "execution_count": 47,
      "outputs": [
        {
          "output_type": "stream",
          "name": "stdout",
          "text": [
            "Validation score: 0.98\n"
          ]
        }
      ]
    },
    {
      "cell_type": "markdown",
      "source": [
        "#### (ii) Evaluate on train and validation\n"
      ],
      "metadata": {
        "id": "pUEEC-8UsR3x"
      }
    },
    {
      "cell_type": "markdown",
      "source": [
        "Next, we find the accuracy and f1 score of the model on the validation dataset."
      ],
      "metadata": {
        "id": "8Zfm1dy3B3oJ"
      }
    },
    {
      "cell_type": "code",
      "source": [
        "y_val_pred = log_reg_model.predict(val_X)\n",
        "\n",
        "print('On the validation dataset:')\n",
        "print('  accuracy:', round(accuracy_score(val_y, y_val_pred),3))\n",
        "print('  f1 score:', round(f1_score(val_y, y_val_pred),3))"
      ],
      "metadata": {
        "colab": {
          "base_uri": "https://localhost:8080/"
        },
        "outputId": "03a24b30-7470-4404-fe62-139679ed8d82",
        "id": "oyY2WOjDB3oK"
      },
      "execution_count": 50,
      "outputs": [
        {
          "output_type": "stream",
          "name": "stdout",
          "text": [
            "On the validation dataset:\n",
            "  accuracy: 0.98\n",
            "  f1 score: 0.957\n"
          ]
        }
      ]
    },
    {
      "cell_type": "markdown",
      "source": [
        "Next, we obtain a confusion matrix for the training dataset."
      ],
      "metadata": {
        "id": "0SliaNXjB3oL"
      }
    },
    {
      "cell_type": "code",
      "source": [
        "print('Confusion Matrix using Validation data')\n",
        "cm_display = ConfusionMatrixDisplay.from_predictions(val_y, y_val_pred)"
      ],
      "metadata": {
        "colab": {
          "base_uri": "https://localhost:8080/",
          "height": 466
        },
        "outputId": "b6071539-f200-44e3-d395-a0699fc1e6c0",
        "id": "FAsVH7Y5B3oL"
      },
      "execution_count": 54,
      "outputs": [
        {
          "output_type": "stream",
          "name": "stdout",
          "text": [
            "Confusion Matrix using Validation data\n"
          ]
        },
        {
          "output_type": "display_data",
          "data": {
            "text/plain": [
              "<Figure size 640x480 with 2 Axes>"
            ],
            "image/png": "[encoded data removed]"
          },
          "metadata": {}
        }
      ]
    },
    {
      "cell_type": "markdown",
      "source": [
        "We can also obtain the validation classification report"
      ],
      "metadata": {
        "id": "DXA2u6KNB3oM"
      }
    },
    {
      "cell_type": "code",
      "source": [
        "print('Validation classification report\\n', classification_report(val_y, y_val_pred))"
      ],
      "metadata": {
        "colab": {
          "base_uri": "https://localhost:8080/"
        },
        "outputId": "68a2678f-c0e8-41a3-9b1b-c0770c287d57",
        "id": "FGYBeESiB3oM"
      },
      "execution_count": 53,
      "outputs": [
        {
          "output_type": "stream",
          "name": "stdout",
          "text": [
            "Validation classification report\n",
            "               precision    recall  f1-score   support\n",
            "\n",
            "           0       0.97      1.00      0.99       651\n",
            "           1       1.00      0.92      0.96       208\n",
            "\n",
            "    accuracy                           0.98       859\n",
            "   macro avg       0.99      0.96      0.97       859\n",
            "weighted avg       0.98      0.98      0.98       859\n",
            "\n"
          ]
        }
      ]
    },
    {
      "cell_type": "markdown",
      "source": [
        "The Logistic Regression model is able to detect spam emails with 98% accuracy on the validation data."
      ],
      "metadata": {
        "id": "R8zFhNEUB3oM"
      }
    },
    {
      "cell_type": "markdown",
      "source": [
        "#### (iv) Fine-tune using train and validation (if necessary)"
      ],
      "metadata": {
        "id": "QRDn6VL2sR3y"
      }
    },
    {
      "cell_type": "markdown",
      "source": [
        "The above model we have used takes the value of parameter C as 1 (default).\n",
        "\n",
        "Even though this model is providing 98% accuracy, let us try to do hyperparameter tuning to see if we can improve the performance even further."
      ],
      "metadata": {
        "id": "JJFunGPkD2od"
      }
    },
    {
      "cell_type": "code",
      "source": [
        "from sklearn.model_selection import GridSearchCV\n",
        "\n",
        "param_grid ={'C': [1e-4, 1e-3, 1e-2, 1e-1, 1.0, 10.0, 100.0]}\n",
        "log_reg_cv = GridSearchCV(log_reg_model, param_grid = param_grid, cv = 5, scoring = 'f1')\n",
        "log_reg_cv.fit(train_X, train_y)"
      ],
      "metadata": {
        "colab": {
          "base_uri": "https://localhost:8080/",
          "height": 116
        },
        "id": "IAp-0GrmEN2u",
        "outputId": "4fa10af2-b86c-43ee-8f4d-0083bdb33383"
      },
      "execution_count": 59,
      "outputs": [
        {
          "output_type": "execute_result",
          "data": {
            "text/plain": [
              "GridSearchCV(cv=5, estimator=LogisticRegression(random_state=0),\n",
              "             param_grid={'C': [0.0001, 0.001, 0.01, 0.1, 1.0, 10.0, 100.0]},\n",
              "             scoring='f1')"
            ],
            "text/html": [
              "<style>#sk-container-id-4 {color: black;background-color: white;}#sk-container-id-4 pre{padding: 0;}#sk-container-id-4 div.sk-toggleable {background-color: white;}#sk-container-id-4 label.sk-toggleable__label {cursor: pointer;display: block;width: 100%;margin-bottom: 0;padding: 0.3em;box-sizing: border-box;text-align: center;}#sk-container-id-4 label.sk-toggleable__label-arrow:before {content: \"▸\";float: left;margin-right: 0.25em;color: #696969;}#sk-container-id-4 label.sk-toggleable__label-arrow:hover:before {color: black;}#sk-container-id-4 div.sk-estimator:hover label.sk-toggleable__label-arrow:before {color: black;}#sk-container-id-4 div.sk-toggleable__content {max-height: 0;max-width: 0;overflow: hidden;text-align: left;background-color: #f0f8ff;}#sk-container-id-4 div.sk-toggleable__content pre {margin: 0.2em;color: black;border-radius: 0.25em;background-color: #f0f8ff;}#sk-container-id-4 input.sk-toggleable__control:checked~div.sk-toggleable__content {max-height: 200px;max-width: 100%;overflow: auto;}#sk-container-id-4 input.sk-toggleable__control:checked~label.sk-toggleable__label-arrow:before {content: \"▾\";}#sk-container-id-4 div.sk-estimator input.sk-toggleable__control:checked~label.sk-toggleable__label {background-color: #d4ebff;}#sk-container-id-4 div.sk-label input.sk-toggleable__control:checked~label.sk-toggleable__label {background-color: #d4ebff;}#sk-container-id-4 input.sk-hidden--visually {border: 0;clip: rect(1px 1px 1px 1px);clip: rect(1px, 1px, 1px, 1px);height: 1px;margin: -1px;overflow: hidden;padding: 0;position: absolute;width: 1px;}#sk-container-id-4 div.sk-estimator {font-family: monospace;background-color: #f0f8ff;border: 1px dotted black;border-radius: 0.25em;box-sizing: border-box;margin-bottom: 0.5em;}#sk-container-id-4 div.sk-estimator:hover {background-color: #d4ebff;}#sk-container-id-4 div.sk-parallel-item::after {content: \"\";width: 100%;border-bottom: 1px solid gray;flex-grow: 1;}#sk-container-id-4 div.sk-label:hover label.sk-toggleable__label {background-color: #d4ebff;}#sk-container-id-4 div.sk-serial::before {content: \"\";position: absolute;border-left: 1px solid gray;box-sizing: border-box;top: 0;bottom: 0;left: 50%;z-index: 0;}#sk-container-id-4 div.sk-serial {display: flex;flex-direction: column;align-items: center;background-color: white;padding-right: 0.2em;padding-left: 0.2em;position: relative;}#sk-container-id-4 div.sk-item {position: relative;z-index: 1;}#sk-container-id-4 div.sk-parallel {display: flex;align-items: stretch;justify-content: center;background-color: white;position: relative;}#sk-container-id-4 div.sk-item::before, #sk-container-id-4 div.sk-parallel-item::before {content: \"\";position: absolute;border-left: 1px solid gray;box-sizing: border-box;top: 0;bottom: 0;left: 50%;z-index: -1;}#sk-container-id-4 div.sk-parallel-item {display: flex;flex-direction: column;z-index: 1;position: relative;background-color: white;}#sk-container-id-4 div.sk-parallel-item:first-child::after {align-self: flex-end;width: 50%;}#sk-container-id-4 div.sk-parallel-item:last-child::after {align-self: flex-start;width: 50%;}#sk-container-id-4 div.sk-parallel-item:only-child::after {width: 0;}#sk-container-id-4 div.sk-dashed-wrapped {border: 1px dashed gray;margin: 0 0.4em 0.5em 0.4em;box-sizing: border-box;padding-bottom: 0.4em;background-color: white;}#sk-container-id-4 div.sk-label label {font-family: monospace;font-weight: bold;display: inline-block;line-height: 1.2em;}#sk-container-id-4 div.sk-label-container {text-align: center;}#sk-container-id-4 div.sk-container {/* jupyter's `normalize.less` sets `[hidden] { display: none; }` but bootstrap.min.css set `[hidden] { display: none !important; }` so we also need the `!important` here to be able to override the default hidden behavior on the sphinx rendered scikit-learn.org. See: https://github.com/scikit-learn/scikit-learn/issues/21755 */display: inline-block !important;position: relative;}#sk-container-id-4 div.sk-text-repr-fallback {display: none;}</style><div id=\"sk-container-id-4\" class=\"sk-top-container\"><div class=\"sk-text-repr-fallback\"><pre>GridSearchCV(cv=5, estimator=LogisticRegression(random_state=0),\n",
              "             param_grid={&#x27;C&#x27;: [0.0001, 0.001, 0.01, 0.1, 1.0, 10.0, 100.0]},\n",
              "             scoring=&#x27;f1&#x27;)</pre><b>In a Jupyter environment, please rerun this cell to show the HTML representation or trust the notebook. <br />On GitHub, the HTML representation is unable to render, please try loading this page with nbviewer.org.</b></div><div class=\"sk-container\" hidden><div class=\"sk-item sk-dashed-wrapped\"><div class=\"sk-label-container\"><div class=\"sk-label sk-toggleable\"><input class=\"sk-toggleable__control sk-hidden--visually\" id=\"sk-estimator-id-8\" type=\"checkbox\" ><label for=\"sk-estimator-id-8\" class=\"sk-toggleable__label sk-toggleable__label-arrow\">GridSearchCV</label><div class=\"sk-toggleable__content\"><pre>GridSearchCV(cv=5, estimator=LogisticRegression(random_state=0),\n",
              "             param_grid={&#x27;C&#x27;: [0.0001, 0.001, 0.01, 0.1, 1.0, 10.0, 100.0]},\n",
              "             scoring=&#x27;f1&#x27;)</pre></div></div></div><div class=\"sk-parallel\"><div class=\"sk-parallel-item\"><div class=\"sk-item\"><div class=\"sk-label-container\"><div class=\"sk-label sk-toggleable\"><input class=\"sk-toggleable__control sk-hidden--visually\" id=\"sk-estimator-id-9\" type=\"checkbox\" ><label for=\"sk-estimator-id-9\" class=\"sk-toggleable__label sk-toggleable__label-arrow\">estimator: LogisticRegression</label><div class=\"sk-toggleable__content\"><pre>LogisticRegression(random_state=0)</pre></div></div></div><div class=\"sk-serial\"><div class=\"sk-item\"><div class=\"sk-estimator sk-toggleable\"><input class=\"sk-toggleable__control sk-hidden--visually\" id=\"sk-estimator-id-10\" type=\"checkbox\" ><label for=\"sk-estimator-id-10\" class=\"sk-toggleable__label sk-toggleable__label-arrow\">LogisticRegression</label><div class=\"sk-toggleable__content\"><pre>LogisticRegression(random_state=0)</pre></div></div></div></div></div></div></div></div></div></div>"
            ]
          },
          "metadata": {},
          "execution_count": 59
        }
      ]
    },
    {
      "cell_type": "code",
      "source": [
        "log_reg_cv.best_params_"
      ],
      "metadata": {
        "colab": {
          "base_uri": "https://localhost:8080/"
        },
        "id": "lyzx8fEtFZjk",
        "outputId": "17766925-5ba4-4c39-dc3b-e116c06f4b6a"
      },
      "execution_count": 60,
      "outputs": [
        {
          "output_type": "execute_result",
          "data": {
            "text/plain": [
              "{'C': 100.0}"
            ]
          },
          "metadata": {},
          "execution_count": 60
        }
      ]
    },
    {
      "cell_type": "markdown",
      "source": [
        "Hence, the best parameter value of C is 100."
      ],
      "metadata": {
        "id": "iGT-3vCKLxuu"
      }
    },
    {
      "cell_type": "markdown",
      "source": [
        "Now, let's find score the best logistic regression (C = 100) on the validation dataset."
      ],
      "metadata": {
        "id": "KBqfrdLUVr74"
      }
    },
    {
      "cell_type": "code",
      "source": [
        "best_log_reg_model = log_reg_cv.best_estimator_\n",
        "best_log_reg_model.fit(train_X, train_y)\n",
        "\n",
        "print(\"Validation score using best logistic regression model:\", round(best_log_reg_model.score(val_X, val_y),3))"
      ],
      "metadata": {
        "colab": {
          "base_uri": "https://localhost:8080/"
        },
        "id": "c6pd5AJKVzuu",
        "outputId": "da02324c-a5bf-45f1-fa46-13f52d3f5590"
      },
      "execution_count": 74,
      "outputs": [
        {
          "output_type": "stream",
          "name": "stdout",
          "text": [
            "Validation score using best logistic regression model: 0.998\n"
          ]
        }
      ]
    },
    {
      "cell_type": "markdown",
      "source": [
        "Let us find the accuracy and f1 score of this model on the validation dataset."
      ],
      "metadata": {
        "id": "5De-_mu4L0n6"
      }
    },
    {
      "cell_type": "code",
      "source": [
        "y_val_pred = best_log_reg_model.predict(val_X)\n",
        "\n",
        "print('Using the best logistic regression model on the validation dataset')\n",
        "print('  accuracy:', round(accuracy_score(val_y, y_val_pred),3))\n",
        "print('  f1 score:', round(f1_score(val_y, y_val_pred),3))"
      ],
      "metadata": {
        "colab": {
          "base_uri": "https://localhost:8080/"
        },
        "id": "rQGorgi5Kn3D",
        "outputId": "1e4c7ed5-4f80-41fe-d091-f421492a8b93"
      },
      "execution_count": 75,
      "outputs": [
        {
          "output_type": "stream",
          "name": "stdout",
          "text": [
            "Using the best logistic regression model on the validation dataset\n",
            "  accuracy: 0.998\n",
            "  f1 score: 0.995\n"
          ]
        }
      ]
    },
    {
      "cell_type": "markdown",
      "source": [
        "We can observe that there is a significant improvement in the predictions on validation dataset by taking the value of the parameter C of the Logistic Regression classifier as 100."
      ],
      "metadata": {
        "id": "BoF6jmAWLgwU"
      }
    },
    {
      "cell_type": "markdown",
      "source": [
        "### **STEP 5**: Score 3 benchmark models on test data and select the best one"
      ],
      "metadata": {
        "id": "YMwYIamrsR9Q"
      }
    },
    {
      "cell_type": "markdown",
      "source": [
        "#### 1. **Logistic Regression Classifier**"
      ],
      "metadata": {
        "id": "ZGSZjS2GMLBO"
      }
    },
    {
      "cell_type": "markdown",
      "source": [
        "Firstly, we split the testing dataset into `test_X` containing features and `test_y` containing the target."
      ],
      "metadata": {
        "id": "-Uw5ogGv5ti_"
      }
    },
    {
      "cell_type": "code",
      "source": [
        "test_X = df_test[df_test.columns[:-1]]\n",
        "test_y = df_test['spam'].copy()"
      ],
      "metadata": {
        "id": "e4VePHHu58gD"
      },
      "execution_count": 20,
      "outputs": []
    },
    {
      "cell_type": "markdown",
      "source": [
        "Now, let us score the testing data on the benchmark Logistic Regression classifier we had defined earlier."
      ],
      "metadata": {
        "id": "3lM2e4ztM9QF"
      }
    },
    {
      "cell_type": "code",
      "source": [
        "print('Testing score using Logistic Regression classifier:', round(log_reg_model.score(test_X, test_y),3))"
      ],
      "metadata": {
        "colab": {
          "base_uri": "https://localhost:8080/"
        },
        "outputId": "a9b15d93-4cfb-4d4c-e037-021abde20e47",
        "id": "la02_whadiRq"
      },
      "execution_count": 95,
      "outputs": [
        {
          "output_type": "stream",
          "name": "stdout",
          "text": [
            "Testing score using Logistic Regression classifier: 0.97\n"
          ]
        }
      ]
    },
    {
      "cell_type": "code",
      "source": [
        "y_test_pred_log_reg = log_reg_model.predict(test_X)\n",
        "\n",
        "log_reg_accuracy = round(accuracy_score(test_y, y_test_pred_log_reg),3)\n",
        "log_reg_f1 = round(f1_score(test_y, y_test_pred_log_reg),3)\n",
        "\n",
        "print('On the testing data, using Logistic Regression classifier')\n",
        "print('  accuracy score:', log_reg_accuracy)\n",
        "print('  F1 score:', log_reg_f1)"
      ],
      "metadata": {
        "colab": {
          "base_uri": "https://localhost:8080/"
        },
        "outputId": "8ec72a91-5ce5-42e6-aafa-b497aa0b3e92",
        "id": "2WoSR6yxdiR2"
      },
      "execution_count": 98,
      "outputs": [
        {
          "output_type": "stream",
          "name": "stdout",
          "text": [
            "On the testing data, using Logistic Regression classifier\n",
            "  accuracy score: 0.97\n",
            "  F1 score: 0.934\n"
          ]
        }
      ]
    },
    {
      "cell_type": "markdown",
      "source": [
        "Let us also check the classification report with Logistic Regression classifier."
      ],
      "metadata": {
        "id": "W0DaIBi3diR2"
      }
    },
    {
      "cell_type": "code",
      "source": [
        "print(\"Classification report with Logistic Regression classifier\")\n",
        "print(classification_report(test_y, y_test_pred_log_reg))"
      ],
      "metadata": {
        "colab": {
          "base_uri": "https://localhost:8080/"
        },
        "outputId": "3028e0b6-3dfd-4918-8f60-8c9d618a00f1",
        "id": "BHVGuzm0diR2"
      },
      "execution_count": 97,
      "outputs": [
        {
          "output_type": "stream",
          "name": "stdout",
          "text": [
            "Classification report with Logistic Regression classifier\n",
            "              precision    recall  f1-score   support\n",
            "\n",
            "           0       0.96      1.00      0.98       652\n",
            "           1       0.99      0.88      0.93       208\n",
            "\n",
            "    accuracy                           0.97       860\n",
            "   macro avg       0.98      0.94      0.96       860\n",
            "weighted avg       0.97      0.97      0.97       860\n",
            "\n"
          ]
        }
      ]
    },
    {
      "cell_type": "markdown",
      "source": [
        "#### 2. **Naive Bayes Classifier**"
      ],
      "metadata": {
        "id": "72i4zA2eUeJx"
      }
    },
    {
      "cell_type": "code",
      "source": [
        "from sklearn.naive_bayes import MultinomialNB\n",
        "\n",
        "mnb = MultinomialNB()\n",
        "mnb.fit(train_X, train_y)\n",
        "\n",
        "print('Testing score using MultinomialNB:', round(mnb.score(test_X, test_y),3))"
      ],
      "metadata": {
        "colab": {
          "base_uri": "https://localhost:8080/"
        },
        "id": "KIBp8myPUoje",
        "outputId": "d9ad69ff-4076-4ae8-ea0a-946935adb104"
      },
      "execution_count": 81,
      "outputs": [
        {
          "output_type": "stream",
          "name": "stdout",
          "text": [
            "Testing score using MultinomialNB: 0.858\n"
          ]
        }
      ]
    },
    {
      "cell_type": "code",
      "source": [
        "y_test_pred_mnb = mnb.predict(test_X)\n",
        "\n",
        "mnb_accuracy = round(accuracy_score(test_y, y_test_pred_mnb),3)\n",
        "mnb_f1 = round(f1_score(test_y, y_test_pred_mnb),3)\n",
        "\n",
        "print('On the testing data, using MultinomialNB')\n",
        "print('  accuracy score:', mnb_accuracy)\n",
        "print('  F1 score:', mnb_f1)"
      ],
      "metadata": {
        "colab": {
          "base_uri": "https://localhost:8080/"
        },
        "id": "WXgMmwdvWlHf",
        "outputId": "6c84a642-a8bc-4755-e8ee-4feeff96f7bd"
      },
      "execution_count": 99,
      "outputs": [
        {
          "output_type": "stream",
          "name": "stdout",
          "text": [
            "On the testing data, using MultinomialNB\n",
            "  accuracy score: 0.858\n",
            "  F1 score: 0.591\n"
          ]
        }
      ]
    },
    {
      "cell_type": "markdown",
      "source": [
        "Let us also check the classification report with Multinomial Naive Bayes classifier."
      ],
      "metadata": {
        "id": "KkQRNgJgY1vf"
      }
    },
    {
      "cell_type": "code",
      "source": [
        "print(\"Classification report with MultinomialNB classifier\")\n",
        "print(classification_report(test_y, y_test_pred_mnb))"
      ],
      "metadata": {
        "colab": {
          "base_uri": "https://localhost:8080/"
        },
        "id": "DSwC1K-iY1Hn",
        "outputId": "c35f2dd2-0bc3-4ebc-ab8c-40d8bdc7f043"
      },
      "execution_count": 84,
      "outputs": [
        {
          "output_type": "stream",
          "name": "stdout",
          "text": [
            "Classification report with MultinomialNB classifier\n",
            "              precision    recall  f1-score   support\n",
            "\n",
            "           0       0.84      1.00      0.91       652\n",
            "           1       0.98      0.42      0.59       208\n",
            "\n",
            "    accuracy                           0.86       860\n",
            "   macro avg       0.91      0.71      0.75       860\n",
            "weighted avg       0.88      0.86      0.84       860\n",
            "\n"
          ]
        }
      ]
    },
    {
      "cell_type": "markdown",
      "source": [
        "#### 3. **Random Forest Classifier**"
      ],
      "metadata": {
        "id": "hscD5_NIWxHb"
      }
    },
    {
      "cell_type": "code",
      "source": [
        "from sklearn.ensemble import RandomForestClassifier\n",
        "\n",
        "rfc = RandomForestClassifier(random_state = 0)\n",
        "rfc.fit(train_X, train_y)\n",
        "\n",
        "print('Testing score using Random Forest Classifier:', round(rfc.score(test_X, test_y),3))"
      ],
      "metadata": {
        "colab": {
          "base_uri": "https://localhost:8080/"
        },
        "outputId": "e1f8129d-1f1a-4015-ec4c-3a487b00ca7a",
        "id": "J04URtPaWxHk"
      },
      "execution_count": 89,
      "outputs": [
        {
          "output_type": "stream",
          "name": "stdout",
          "text": [
            "Testing score using Random Forest Classifier: 0.958\n"
          ]
        }
      ]
    },
    {
      "cell_type": "code",
      "source": [
        "y_test_pred_rfc = rfc.predict(test_X)\n",
        "\n",
        "rfc_accuracy = round(accuracy_score(test_y, y_test_pred_rfc),3)\n",
        "rfc_f1 = round(f1_score(test_y, y_test_pred_rfc),3)\n",
        "\n",
        "print('On the testing data, using Random Forest Classifier')\n",
        "print('  accuracy score:', rfc_accuracy)\n",
        "print('  F1 score:', rfc_f1)"
      ],
      "metadata": {
        "colab": {
          "base_uri": "https://localhost:8080/"
        },
        "outputId": "dc651e2d-a4dd-45dd-9650-a30ec776a855",
        "id": "Otx6eF61WxHk"
      },
      "execution_count": 107,
      "outputs": [
        {
          "output_type": "stream",
          "name": "stdout",
          "text": [
            "On the testing data, using Random Forest Classifier\n",
            "  accuracy score: 0.958\n",
            "  F1 score: 0.905\n"
          ]
        }
      ]
    },
    {
      "cell_type": "markdown",
      "source": [
        "Let us also check the classification report with Random Forest classifier."
      ],
      "metadata": {
        "id": "0HWhkF8_cCFn"
      }
    },
    {
      "cell_type": "code",
      "source": [
        "print(\"Classification report with Random Forest classifier\")\n",
        "print(classification_report(test_y, y_test_pred_rfc))"
      ],
      "metadata": {
        "colab": {
          "base_uri": "https://localhost:8080/"
        },
        "outputId": "377a8842-a2ee-48e4-fde3-7c2ce0dd1381",
        "id": "CDn4j83kcCFo"
      },
      "execution_count": 92,
      "outputs": [
        {
          "output_type": "stream",
          "name": "stdout",
          "text": [
            "Classification report with Random Forest classifier\n",
            "              precision    recall  f1-score   support\n",
            "\n",
            "           0       0.95      1.00      0.97       652\n",
            "           1       1.00      0.83      0.91       208\n",
            "\n",
            "    accuracy                           0.96       860\n",
            "   macro avg       0.97      0.91      0.94       860\n",
            "weighted avg       0.96      0.96      0.96       860\n",
            "\n"
          ]
        }
      ]
    },
    {
      "cell_type": "markdown",
      "source": [
        "### **Observation**"
      ],
      "metadata": {
        "id": "uFQBmULzeczr"
      }
    },
    {
      "cell_type": "markdown",
      "source": [
        "Let's summarize the above observations and tabulate the accuracy and F1 scores obtained."
      ],
      "metadata": {
        "id": "hM2gPkwvf5x4"
      }
    },
    {
      "cell_type": "code",
      "source": [
        "print('\\t\\tLogistic Reg\\tMultinomial NB\\tRandom Forest')\n",
        "print('Accuracy\\t{0}\\t\\t{1}\\t\\t{2}'.format(log_reg_accuracy, mnb_accuracy, rfc_accuracy))\n",
        "print('F1 score\\t{0}\\t\\t{1}\\t\\t{2}'.format(log_reg_f1, mnb_f1, rfc_f1))"
      ],
      "metadata": {
        "colab": {
          "base_uri": "https://localhost:8080/"
        },
        "id": "ZfqR7uw-hbc8",
        "outputId": "988b93ce-78b4-4ed4-b277-28f8d6b8c2ad"
      },
      "execution_count": 116,
      "outputs": [
        {
          "output_type": "stream",
          "name": "stdout",
          "text": [
            "\t\tLogistic Reg\tMultinomial NB\tRandom Forest\n",
            "Accuracy\t0.97\t\t0.858\t\t0.958\n",
            "F1 score\t0.934\t\t0.591\t\t0.905\n"
          ]
        }
      ]
    },
    {
      "cell_type": "markdown",
      "source": [
        "We observe that the accuracy and F1 scores are highest for a Logistic Regression classifer, followed next by a Random Forest Classifier."
      ],
      "metadata": {
        "id": "uL2iOtDSeWc5"
      }
    }
  ]
}